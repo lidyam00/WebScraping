{
  "cells": [
    {
      "cell_type": "markdown",
      "source": [
        "# Zybooks includes a case study on the Palmer Penguin dataset. Be sure to complete the interactive reading in your Zybooks before completing this notebook."
      ],
      "metadata": {
        "id": "rsL1DRTNz-pH"
      }
    },
    {
      "cell_type": "markdown",
      "source": [
        "### Steps: <br>\n",
        "1. Complete the Palmer Penguin Case Study (Interactive) in your Zybooks.\n",
        "2. Follow the Instructions in this notebook. Click on execution arrow to the left of the code cells to execute code.\n",
        "3. Questions that you need to answer will appear in a markdown or text cell. Place your answer in the cell (double click the cell to open).\n",
        "4. Questions that require code will have a code cell immediately below the markdown or text cell. Enter and execute your code in the code cell, adding additional blocks for code if needed. Draw on the knowledge you have gained in Datacamp and in Zybooks to complete the code.\n",
        "5. Save your work in your Google Drive (File . . . Save a copy to Drive) or you can save the notebook (File . . . Download .ipynb). Notebooks have the extension .ipynb, just the python code without the markdown can be saved as a python file with the extension .py but you will lose the markdown.\n",
        "6. TURN IN A PDF: Generate a PDF by selecting File . . . Print . . . and change the destination to .PDF.\n",
        "\n",
        "NOTE: students can experiment with generating code with AI, a feature provided in Google Colab. Be careful! You need to be able to verify the code that is generated as it is not always accurate! Be sure to leave in the documentation that shows that the code was generated.\n",
        "\n",
        "Reference:\n",
        "\n",
        "https://pypi.org/project/palmerpenguins/\n",
        "\n",
        "https://github.com/allisonhorst/palmerpenguins\n",
        "\n",
        "Pandas for Python Cheat Sheet:\n",
        "\n",
        "https://pandas.pydata.org/Pandas_Cheat_Sheet.pdf\n"
      ],
      "metadata": {
        "id": "MjEXyXT60cw3"
      }
    },
    {
      "cell_type": "markdown",
      "metadata": {
        "id": "r3S1r-nez1sh"
      },
      "source": [
        "### Import Necessary Libraries"
      ]
    },
    {
      "cell_type": "code",
      "execution_count": null,
      "metadata": {
        "pycharm": {
          "name": "#%%\n"
        },
        "id": "pQmM9Q0bz1sk"
      },
      "outputs": [],
      "source": [
        "%matplotlib inline\n",
        "import pandas as pd\n",
        "import seaborn as sns\n",
        "import matplotlib.pyplot as plt\n",
        "import numpy as np\n",
        "import warnings\n",
        "warnings.filterwarnings('ignore')\n",
        "sns.set()\n",
        "sns.set_style('whitegrid')"
      ]
    },
    {
      "cell_type": "markdown",
      "source": [
        "## Load the Penguins Data"
      ],
      "metadata": {
        "id": "VnE3-cWa4yST"
      }
    },
    {
      "cell_type": "code",
      "source": [
        "penguins = pd.read_csv('https://raw.githubusercontent.com/rfordatascience/tidytuesday/master/data/2020/2020-07-28/penguins.csv')"
      ],
      "metadata": {
        "id": "0lasTFg-5Ugn"
      },
      "execution_count": null,
      "outputs": []
    },
    {
      "cell_type": "code",
      "source": [
        "# view the shape\n",
        "penguins.shape"
      ],
      "metadata": {
        "colab": {
          "base_uri": "https://localhost:8080/"
        },
        "id": "Gk2XYCY26kgr",
        "outputId": "2b34cad2-fed6-4332-ec23-99f368d1cb90"
      },
      "execution_count": null,
      "outputs": [
        {
          "output_type": "execute_result",
          "data": {
            "text/plain": [
              "(344, 8)"
            ]
          },
          "metadata": {},
          "execution_count": 3
        }
      ]
    },
    {
      "cell_type": "code",
      "source": [
        "# write the file to csv\n",
        "# click on the folder in the left sidebar to see the file\n",
        "# select the three dots to download the file locally\n",
        "penguins.to_csv('penguins2.csv')"
      ],
      "metadata": {
        "id": "cev3YwMv6s_M"
      },
      "execution_count": null,
      "outputs": []
    },
    {
      "cell_type": "code",
      "source": [
        "# view the first 10 rows\n",
        "penguins.head(10)"
      ],
      "metadata": {
        "id": "O8c1rBvw7EOv"
      },
      "execution_count": null,
      "outputs": []
    },
    {
      "cell_type": "code",
      "source": [
        "# use value counts to count the number of rows with each unique value\n",
        "penguins.species.value_counts()"
      ],
      "metadata": {
        "id": "NdJlBReu7NJh"
      },
      "execution_count": null,
      "outputs": []
    },
    {
      "cell_type": "markdown",
      "source": [
        "# Question 1:\n",
        "Use value counts to count the number of rows with unique values for the \"island\" column."
      ],
      "metadata": {
        "id": "IMYusS797mbL"
      }
    },
    {
      "cell_type": "code",
      "source": [
        "#Question 1 code\n"
      ],
      "metadata": {
        "id": "nufMnLbn7wTq"
      },
      "execution_count": null,
      "outputs": []
    },
    {
      "cell_type": "code",
      "source": [
        "# count missing values\n",
        "print(penguins.isna().sum())"
      ],
      "metadata": {
        "id": "Ha5Un9Ub78eN"
      },
      "execution_count": null,
      "outputs": []
    },
    {
      "cell_type": "code",
      "source": [
        "# use info to count missing values\n",
        "penguins.info()"
      ],
      "metadata": {
        "id": "kK0JK1S-8LBS"
      },
      "execution_count": null,
      "outputs": []
    },
    {
      "cell_type": "code",
      "source": [
        "# use describe to get basic statistical information on the dataframe\n",
        "penguins.describe()"
      ],
      "metadata": {
        "id": "xsCcbV538Rej"
      },
      "execution_count": null,
      "outputs": []
    },
    {
      "cell_type": "code",
      "source": [
        "# select a subset of the dataframe\n",
        "island_sex = penguins[[\"island\", \"sex\"]]\n",
        "island_sex.head()"
      ],
      "metadata": {
        "id": "K8S1_vS-8zpY"
      },
      "execution_count": null,
      "outputs": []
    },
    {
      "cell_type": "code",
      "source": [
        "# select rows 3 and 4, just the bill_length_mm and bill_depth_mm columns\n",
        "penguins[['bill_length_mm','bill_depth_mm']][3:5]"
      ],
      "metadata": {
        "id": "V7fFL1lY9TZD"
      },
      "execution_count": null,
      "outputs": []
    },
    {
      "cell_type": "markdown",
      "source": [
        "# Question 2:\n",
        "Enter code below to select rows 10, 11 and 12, just the island and sex."
      ],
      "metadata": {
        "id": "lI_tXnkn9mgS"
      }
    },
    {
      "cell_type": "code",
      "source": [
        "# Question 2 Code\n"
      ],
      "metadata": {
        "id": "xyd9Qg1_9xEa"
      },
      "execution_count": null,
      "outputs": []
    },
    {
      "cell_type": "code",
      "source": [
        "# Filter records based on a condition\n",
        "penguins[penguins['body_mass_g'] > 6000]"
      ],
      "metadata": {
        "id": "lD3CY8sP-HCl"
      },
      "execution_count": null,
      "outputs": []
    },
    {
      "cell_type": "markdown",
      "source": [
        "# Question 3:\n",
        "Enter code below to filter just the rows where island is equal to Biscoe."
      ],
      "metadata": {
        "id": "weaSwWcr-dxd"
      }
    },
    {
      "cell_type": "code",
      "source": [
        "# Question 3 code\n"
      ],
      "metadata": {
        "id": "EQMvLchO-klQ"
      },
      "execution_count": null,
      "outputs": []
    },
    {
      "cell_type": "code",
      "source": [
        "# Filter with && and == operators\n",
        "bodymass = penguins[\"body_mass_g\"] < 3400\n",
        "sexm = penguins[\"sex\"] == \"male\"\n",
        "penguins[bodymass & sexm]"
      ],
      "metadata": {
        "id": "4QvWVn0A-t7y"
      },
      "execution_count": null,
      "outputs": []
    },
    {
      "cell_type": "code",
      "source": [
        "# What percentage of penguins are on Island \"Dream\"?\n",
        "penguins['island'].value_counts(normalize=True)*100"
      ],
      "metadata": {
        "id": "5YDyu6kUAmXI"
      },
      "execution_count": null,
      "outputs": []
    },
    {
      "cell_type": "code",
      "source": [
        "# use \"Group by\" to get the mean flipper_length_mm by sex and species\n",
        "penguins.groupby([\"sex\", \"species\"])[\"flipper_length_mm\"].mean()"
      ],
      "metadata": {
        "id": "ESaXfk-MBCW2"
      },
      "execution_count": null,
      "outputs": []
    },
    {
      "cell_type": "markdown",
      "source": [
        "# Question 4:\n",
        "Enter the code below to use \"Group by\" to get the mean bill_length_mm by Island and species"
      ],
      "metadata": {
        "id": "uNXNksD7BOC0"
      }
    },
    {
      "cell_type": "code",
      "source": [
        "# Question 4 Code\n"
      ],
      "metadata": {
        "id": "0sokC0WLBduq"
      },
      "execution_count": null,
      "outputs": []
    },
    {
      "cell_type": "code",
      "source": [
        "# use Group By with describe\n",
        "penguins.groupby(['sex','island']).describe()"
      ],
      "metadata": {
        "id": "sdm8Qh9VBrfT"
      },
      "execution_count": null,
      "outputs": []
    },
    {
      "cell_type": "markdown",
      "source": [
        "# Question 5:\n",
        "Place the code in the cell below to Use group by with describe to gain insight on the year and island"
      ],
      "metadata": {
        "id": "gcFO2LOyB7OE"
      }
    },
    {
      "cell_type": "code",
      "source": [
        "# Question 5 code\n"
      ],
      "metadata": {
        "id": "eVUIBIijCGjz"
      },
      "execution_count": null,
      "outputs": []
    },
    {
      "cell_type": "markdown",
      "source": [
        "# DATA VISUALIZATION\n",
        "Examine the examples below for data visualization of the penguins data. Review examples in DataCamp as well. Question 6 will ask you to generate your own interesting data visualizations for the penguin data."
      ],
      "metadata": {
        "id": "vaetBy82CSgJ"
      }
    },
    {
      "cell_type": "code",
      "execution_count": null,
      "metadata": {
        "pycharm": {
          "name": "#%%\n"
        },
        "id": "2htzG29Pz1sl"
      },
      "outputs": [],
      "source": [
        "plt.figure(figsize = [10,7])\n",
        "g = sns.boxplot(x = 'island',\n",
        "            y ='body_mass_g',\n",
        "            hue = 'species',\n",
        "            data = penguins,\n",
        "            palette=['#FF8C00','#159090','#A034F0'],\n",
        "            linewidth=0.3)\n",
        "g.set_xlabel('Island')\n",
        "g.set_ylabel('Body Mass')\n",
        "\n"
      ]
    },
    {
      "cell_type": "code",
      "execution_count": null,
      "metadata": {
        "pycharm": {
          "name": "#%%\n"
        },
        "id": "A525KGwYz1sl"
      },
      "outputs": [],
      "source": [
        "g = sns.lmplot(x=\"flipper_length_mm\",\n",
        "               y=\"body_mass_g\",\n",
        "               hue=\"species\",\n",
        "               height=7,\n",
        "               data=penguins,\n",
        "               palette=['#FF8C00','#159090','#A034F0'])\n",
        "g.set_xlabels('Flipper Length')\n",
        "g.set_ylabels('Body Mass')"
      ]
    },
    {
      "cell_type": "code",
      "source": [
        "# heat map of the penguins data\n",
        "sns.heatmap(penguins.corr(), annot=True)\n"
      ],
      "metadata": {
        "id": "8iPKKUzaDJ2f"
      },
      "execution_count": null,
      "outputs": []
    },
    {
      "cell_type": "markdown",
      "source": [
        "# Question 6:\n",
        "Using the code cells below labed Visualization 1 through Visualization 5, create 5 additional visualizations for the Penguin data. The final question asks for a summary of the findings for the Penguins data based on the exporation in this notebook and your visualizations. Present five findings in narrative form, for example, \"Based on body mass and flipper length, Adelie and Chinstrap are similar, where Gentoo tends to have a larger body mass and flipper length.\""
      ],
      "metadata": {
        "id": "tNBDMSMFD5P2"
      }
    },
    {
      "cell_type": "code",
      "source": [
        "# Question 6 Visualization 1\n"
      ],
      "metadata": {
        "id": "EUISss3OEG8u"
      },
      "execution_count": null,
      "outputs": []
    },
    {
      "cell_type": "code",
      "source": [
        "# Question 6 Visualization 2\n"
      ],
      "metadata": {
        "id": "xIp2Hj7TEOu2"
      },
      "execution_count": null,
      "outputs": []
    },
    {
      "cell_type": "code",
      "source": [
        "# Question 6 Visualization 3\n"
      ],
      "metadata": {
        "id": "TUCJWagxEPcb"
      },
      "execution_count": null,
      "outputs": []
    },
    {
      "cell_type": "code",
      "source": [
        "# Question 6 Visualization 4\n"
      ],
      "metadata": {
        "id": "53Pl-fvoEPzK"
      },
      "execution_count": null,
      "outputs": []
    },
    {
      "cell_type": "code",
      "source": [
        "# Question 6 Visualization 5\n"
      ],
      "metadata": {
        "id": "JEtTjx6UEQKz"
      },
      "execution_count": null,
      "outputs": []
    },
    {
      "cell_type": "markdown",
      "source": [
        "####Question 6 Narrative:\n",
        "In this markdown or text cell, explain what you have learned about the Penguin data based on the exploration in this notebook.\n",
        "\n",
        "\n"
      ],
      "metadata": {
        "id": "JTvg58-2Q1Na"
      }
    },
    {
      "cell_type": "markdown",
      "source": [
        "# Finishing Up and Submitting Your Work:\n",
        "1) Save your work - you can download the .ipynb file (it can be reopened), and save it to your google drive.\n",
        "2) Use File . . .Print . . PDF to generate a PDF version of your notebook (make sure all cells have been executed and show output). Turn in the PDF version of your notebook for our class assignment.\n",
        "\n",
        "This notebook can be added to a Github repo that showcases your work for class."
      ],
      "metadata": {
        "id": "Epd7xYLAEXoF"
      }
    }
  ],
  "metadata": {
    "kernelspec": {
      "display_name": "Python 3",
      "language": "python",
      "name": "python3"
    },
    "language_info": {
      "codemirror_mode": {
        "name": "ipython",
        "version": 3
      },
      "file_extension": ".py",
      "mimetype": "text/x-python",
      "name": "python",
      "nbconvert_exporter": "python",
      "pygments_lexer": "ipython3",
      "version": "3.7.4"
    },
    "colab": {
      "provenance": []
    }
  },
  "nbformat": 4,
  "nbformat_minor": 0
}