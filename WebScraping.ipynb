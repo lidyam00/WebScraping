{
 "cells": [
  {
   "cell_type": "code",
   "execution_count": 1,
   "id": "f527ad5c-200e-4120-8c37-414020b17150",
   "metadata": {
    "tags": []
   },
   "outputs": [],
   "source": [
    "import requests\n",
    "import pandas as pd\n",
    "from bs4 import BeautifulSoup"
   ]
  },
  {
   "cell_type": "code",
   "execution_count": 4,
   "id": "071928ba-1467-49fd-9ec5-87879c9f1322",
   "metadata": {
    "tags": []
   },
   "outputs": [
    {
     "name": "stdout",
     "output_type": "stream",
     "text": [
      "<Response [200]>\n"
     ]
    }
   ],
   "source": [
    "url = \"https://webpages.charlotte.edu/mscipion/\"\n",
    "\n",
    "response = requests.get(url)\n",
    "print(response)"
   ]
  },
  {
   "cell_type": "code",
   "execution_count": 5,
   "id": "2e2fe070-399d-48a2-b692-f88e0baa1d28",
   "metadata": {
    "tags": []
   },
   "outputs": [],
   "source": [
    "soup = BeautifulSoup(response.text,'html.parser')"
   ]
  },
  {
   "cell_type": "code",
   "execution_count": 6,
   "id": "51fc49b6-8601-4b1a-b677-c7fa8d23562f",
   "metadata": {
    "tags": []
   },
   "outputs": [],
   "source": [
    "table = soup.find('table')"
   ]
  },
  {
   "cell_type": "code",
   "execution_count": 7,
   "id": "9b17a870-11f2-426a-9b86-44988db19555",
   "metadata": {
    "tags": []
   },
   "outputs": [],
   "source": [
    "headers = [header.text for header in table.find_all('th')]\n",
    "rows = []\n",
    "for row in table.find_all('tr'):\n",
    "    rows.append([val.text for val in row.find_all('td')])"
   ]
  },
  {
   "cell_type": "code",
   "execution_count": 8,
   "id": "f95a2954-28b1-4de7-9afc-dd844c5f026a",
   "metadata": {
    "tags": []
   },
   "outputs": [],
   "source": [
    "df = pd.DataFrame(rows,columns=headers)"
   ]
  },
  {
   "cell_type": "code",
   "execution_count": 9,
   "id": "49f1b11e-5070-4b85-946f-f56b73a0740b",
   "metadata": {
    "tags": []
   },
   "outputs": [],
   "source": [
    "df.to_csv('students.csv', index=False)"
   ]
  },
  {
   "cell_type": "code",
   "execution_count": 11,
   "id": "562ba493-21a9-4c83-8a65-44e878d36287",
   "metadata": {
    "tags": []
   },
   "outputs": [
    {
     "name": "stdout",
     "output_type": "stream",
     "text": [
      "['Student', 'Favourite Computer Language', 'Years of Experience']\n"
     ]
    }
   ],
   "source": [
    "print(headers)"
   ]
  },
  {
   "cell_type": "code",
   "execution_count": 13,
   "id": "78dce5cb-4737-4d96-8123-53a599530d77",
   "metadata": {
    "tags": []
   },
   "outputs": [
    {
     "name": "stdout",
     "output_type": "stream",
     "text": [
      "  Student Favourite Computer Language Years of Experience\n",
      "0    None                        None                None\n",
      "1    Fred                      Kotlin                   4\n",
      "2   Paula                      Python                   2\n",
      "3   Ernst                        Java                   7\n",
      "4  Isabel                         C++                   3\n",
      "5    Tony                       Pearl                   7\n",
      "6   Maria                       Cobol                  15\n"
     ]
    }
   ],
   "source": [
    "print(df)"
   ]
  },
  {
   "cell_type": "code",
   "execution_count": 14,
   "id": "529e775a-118e-4606-b1fa-b6c26a2c5bc5",
   "metadata": {
    "tags": []
   },
   "outputs": [
    {
     "name": "stdout",
     "output_type": "stream",
     "text": [
      "[[], ['Fred', 'Kotlin', '4'], ['Paula', 'Python', '2'], ['Ernst', 'Java', '7'], ['Isabel', 'C++', '3'], ['Tony', 'Pearl', '7'], ['Maria', 'Cobol', '15']]\n"
     ]
    }
   ],
   "source": [
    "print(rows)"
   ]
  }
 ],
 "metadata": {
  "kernelspec": {
   "display_name": "Python 3 (ipykernel)",
   "language": "python",
   "name": "python3"
  },
  "language_info": {
   "codemirror_mode": {
    "name": "ipython",
    "version": 3
   },
   "file_extension": ".py",
   "mimetype": "text/x-python",
   "name": "python",
   "nbconvert_exporter": "python",
   "pygments_lexer": "ipython3",
   "version": "3.11.4"
  }
 },
 "nbformat": 4,
 "nbformat_minor": 5
}
